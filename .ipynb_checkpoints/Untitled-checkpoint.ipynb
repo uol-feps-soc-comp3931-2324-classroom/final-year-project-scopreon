{
 "cells": [
  {
   "cell_type": "code",
   "execution_count": 2,
   "id": "3e044818-0084-4df0-a0d8-44d41828c5bf",
   "metadata": {},
   "outputs": [
    {
     "ename": "ModuleNotFoundError",
     "evalue": "No module named 'fenics'",
     "output_type": "error",
     "traceback": [
      "\u001b[0;31m---------------------------------------------------------------------------\u001b[0m",
      "\u001b[0;31mModuleNotFoundError\u001b[0m                       Traceback (most recent call last)",
      "Cell \u001b[0;32mIn[2], line 1\u001b[0m\n\u001b[0;32m----> 1\u001b[0m \u001b[38;5;28;01mfrom\u001b[39;00m \u001b[38;5;21;01msimple_worm\u001b[39;00m\u001b[38;5;21;01m.\u001b[39;00m\u001b[38;5;21;01msteering_circuit\u001b[39;00m \u001b[38;5;28;01mimport\u001b[39;00m SteeringCircuit\n\u001b[1;32m      2\u001b[0m \u001b[38;5;28;01mfrom\u001b[39;00m \u001b[38;5;21;01msimple_worm\u001b[39;00m\u001b[38;5;21;01m.\u001b[39;00m\u001b[38;5;21;01msteering_parameters\u001b[39;00m \u001b[38;5;28;01mimport\u001b[39;00m SteeringParameters\n\u001b[1;32m      3\u001b[0m \u001b[38;5;28;01mimport\u001b[39;00m \u001b[38;5;21;01mmatplotlib\u001b[39;00m\u001b[38;5;21;01m.\u001b[39;00m\u001b[38;5;21;01mpyplot\u001b[39;00m \u001b[38;5;28;01mas\u001b[39;00m \u001b[38;5;21;01mplt\u001b[39;00m\n",
      "File \u001b[0;32m~/Documents/Uni/Year_3/individual-project/saulcooperman-fyp copy/simple_worm/__init__.py:3\u001b[0m\n\u001b[1;32m      1\u001b[0m \u001b[38;5;28;01mimport\u001b[39;00m \u001b[38;5;21;01mwarnings\u001b[39;00m\n\u001b[0;32m----> 3\u001b[0m \u001b[38;5;28;01mfrom\u001b[39;00m \u001b[38;5;21;01mfenics\u001b[39;00m \u001b[38;5;28;01mimport\u001b[39;00m \u001b[38;5;241m*\u001b[39m\n\u001b[1;32m      4\u001b[0m \u001b[38;5;28;01mfrom\u001b[39;00m \u001b[38;5;21;01mffc\u001b[39;00m\u001b[38;5;21;01m.\u001b[39;00m\u001b[38;5;21;01mquadrature\u001b[39;00m\u001b[38;5;21;01m.\u001b[39;00m\u001b[38;5;21;01mdeprecation\u001b[39;00m \u001b[38;5;28;01mimport\u001b[39;00m QuadratureRepresentationDeprecationWarning\n\u001b[1;32m      6\u001b[0m set_log_level(\u001b[38;5;241m100\u001b[39m)\n",
      "\u001b[0;31mModuleNotFoundError\u001b[0m: No module named 'fenics'"
     ]
    }
   ],
   "source": [
    "from simple_worm.steering_circuit import SteeringCircuit\n",
    "from simple_worm.steering_parameters import SteeringParameters\n",
    "import matplotlib.pyplot as plt\n",
    "import numpy as np\n",
    "\n",
    "plt.style.use('ggplot')\n",
    "\n",
    "plt.rcParams.update({'font.size': 12, 'font.family': 'sans-serif'})\n",
    "path_to_diss = \"/Users/saulcoops/Documents/Uni/Year_3/individual-project/DISSERTATION/finalReportTemplateLaTeX/images\""
   ]
  },
  {
   "cell_type": "code",
   "execution_count": 3,
   "id": "785da83d-3f8f-4134-99a5-115edfb1aa56",
   "metadata": {},
   "outputs": [
    {
     "ename": "NameError",
     "evalue": "name 'SteeringCircuit' is not defined",
     "output_type": "error",
     "traceback": [
      "\u001b[0;31m---------------------------------------------------------------------------\u001b[0m",
      "\u001b[0;31mNameError\u001b[0m                                 Traceback (most recent call last)",
      "Cell \u001b[0;32mIn[3], line 5\u001b[0m\n\u001b[1;32m      2\u001b[0m SYNAPSES \u001b[38;5;241m=\u001b[39m [\u001b[38;5;241m0\u001b[39m,\u001b[38;5;241m0\u001b[39m,\u001b[38;5;241m0\u001b[39m,\u001b[38;5;241m0\u001b[39m,\u001b[38;5;241m0\u001b[39m,\u001b[38;5;241m0\u001b[39m,\u001b[38;5;241m0\u001b[39m]\n\u001b[1;32m      3\u001b[0m THRESHOLDS \u001b[38;5;241m=\u001b[39m [\u001b[38;5;241m0\u001b[39m,\u001b[38;5;241m0\u001b[39m,\u001b[38;5;241m0\u001b[39m,\u001b[38;5;241m0\u001b[39m,\u001b[38;5;241m0\u001b[39m]\n\u001b[0;32m----> 5\u001b[0m circuit1 \u001b[38;5;241m=\u001b[39m \u001b[43mSteeringCircuit\u001b[49m(dt, SteeringParameters(SYNAPSES\u001b[38;5;241m=\u001b[39mSYNAPSES, BIASES\u001b[38;5;241m=\u001b[39mTHRESHOLDS, M \u001b[38;5;241m=\u001b[39m \u001b[38;5;241m0.1\u001b[39m, N \u001b[38;5;241m=\u001b[39m\u001b[38;5;241m0.1\u001b[39m))\n\u001b[1;32m      6\u001b[0m circuit2 \u001b[38;5;241m=\u001b[39m SteeringCircuit(dt, SteeringParameters(SYNAPSES\u001b[38;5;241m=\u001b[39mSYNAPSES, BIASES\u001b[38;5;241m=\u001b[39mTHRESHOLDS, M \u001b[38;5;241m=\u001b[39m \u001b[38;5;241m4.2\u001b[39m, N \u001b[38;5;241m=\u001b[39m\u001b[38;5;241m4.2\u001b[39m))\n\u001b[1;32m      7\u001b[0m circuit3 \u001b[38;5;241m=\u001b[39m SteeringCircuit(dt, SteeringParameters(SYNAPSES\u001b[38;5;241m=\u001b[39mSYNAPSES, BIASES\u001b[38;5;241m=\u001b[39mTHRESHOLDS, M \u001b[38;5;241m=\u001b[39m \u001b[38;5;241m4.2\u001b[39m, N \u001b[38;5;241m=\u001b[39m \u001b[38;5;241m0.1\u001b[39m))\n",
      "\u001b[0;31mNameError\u001b[0m: name 'SteeringCircuit' is not defined"
     ]
    }
   ],
   "source": [
    "\n",
    "dt = 0.001\n",
    "SYNAPSES = [0,0,0,0,0,0,0]\n",
    "THRESHOLDS = [0,0,0,0,0]\n",
    "\n",
    "circuit1 = SteeringCircuit(dt, SteeringParameters(SYNAPSES=SYNAPSES, BIASES=THRESHOLDS, M = 0.1, N =0.1))\n",
    "circuit2 = SteeringCircuit(dt, SteeringParameters(SYNAPSES=SYNAPSES, BIASES=THRESHOLDS, M = 4.2, N =4.2))\n",
    "circuit3 = SteeringCircuit(dt, SteeringParameters(SYNAPSES=SYNAPSES, BIASES=THRESHOLDS, M = 4.2, N = 0.1))\n",
    "\n",
    "points = []\n",
    "for x in range(0,20000):\n",
    "    # print(x)\n",
    "\n",
    "    value = np.sin(x/(np.pi * 50)) * 10\n",
    "    circuit1.update_state(concentration=value)\n",
    "    circuit2.update_state(concentration=value)\n",
    "    circuit3.update_state(concentration=value)\n",
    "\n",
    "    points.append((value,circuit1.ASE[0].get_output(), circuit1.ASE[1].get_output(),value,circuit2.ASE[0].get_output(), \n",
    "circuit2.ASE[1].get_output(),value,circuit3.ASE[0].get_output(), circuit3.ASE[1].get_output()))\n",
    "\n",
    "\n",
    "\n",
    "points = points[5000:10000]\n",
    "ase_series = list(zip(*points))\n",
    "\n",
    "time_series = [x * 0.01 for x in range(1000)]\n",
    "\n",
    "start_range = 200\n",
    "end_range = 700\n",
    "\n",
    "# Slicing the DataFrame to the selected range\n",
    "# df_range = df[start_range:end_range]\n",
    "# Plotting\n",
    "fig, axs = plt.subplots(2,2, figsize=(10, 5))  # 1 row, 2 columns\n",
    "axs = axs.transpose()\n",
    "axs = axs.flatten()\n",
    "\n",
    "lines = []\n",
    "text = [\"(M = 0.1, N = 0.1)\", \"(M = 4.2, N = 4.2)\",\"(M = 4.2, N = 0.1)\"]\n",
    "for i in range(2):\n",
    "    axs[i*2].plot(ase_series[i*3])  # Initial line at y=40\n",
    "    axs[i*2].set_title('Concentration Over Time', fontsize = 12)\n",
    "    axs[i*2].set_xlabel('Time (s)')\n",
    "    axs[i*2].set_ylabel('Concentration')\n",
    "    # axs[i*2].set_ylim([0, 100])\n",
    "    \n",
    "    line1, = axs[i*2 + 1].plot(ase_series[i*3 + 1], label='ASEL')\n",
    "    line2, = axs[i*2 + 1].plot(ase_series[i*3 + 2], label='ASER')\n",
    "    axs[i*2 + 1].set_title(f'ASE Output {text[i]}', fontsize = 16)\n",
    "    axs[i*2 + 1].set_xlabel('Time (ms)', fontsize = 14)\n",
    "    axs[i*2 + 1].set_ylabel('Output', fontsize = 14)\n",
    "    axs[i*2 + 1].set_ylim([0, 1.1])\n",
    "\n",
    "    # Setting legend specifically for these subplots\n",
    "    #axs[i*2 + 1].legend(handles=[line1, line2])\n",
    "    \n",
    "    lines.append(line1)\n",
    "    lines.append(line2)\n",
    "    \n",
    "\n",
    "fig.legend(lines[0:2],['ASEL','ASER'], loc='lower right', bbox_to_anchor=(1.1, 0.1))\n",
    "plt.tight_layout()  # Adjust layout\n",
    "plt.savefig(path_to_diss+'/results/ASE_M_N.png', dpi=1600, bbox_inches='tight', fontsize = 15)\n",
    "\n",
    "plt.show()\n",
    "\n"
   ]
  },
  {
   "cell_type": "code",
   "execution_count": null,
   "id": "7abd762a-95db-4c3e-bf86-1b44cb360213",
   "metadata": {},
   "outputs": [],
   "source": []
  }
 ],
 "metadata": {
  "kernelspec": {
   "display_name": "Python 3 (ipykernel)",
   "language": "python",
   "name": "python3"
  },
  "language_info": {
   "codemirror_mode": {
    "name": "ipython",
    "version": 3
   },
   "file_extension": ".py",
   "mimetype": "text/x-python",
   "name": "python",
   "nbconvert_exporter": "python",
   "pygments_lexer": "ipython3",
   "version": "3.11.6"
  }
 },
 "nbformat": 4,
 "nbformat_minor": 5
}
